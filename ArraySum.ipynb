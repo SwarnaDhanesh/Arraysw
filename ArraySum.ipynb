{
 "cells": [
  {
   "cell_type": "code",
   "execution_count": 1,
   "id": "b4803e9a",
   "metadata": {},
   "outputs": [
    {
     "name": "stdout",
     "output_type": "stream",
     "text": [
      "The List of array is = [8, 2, 1, 6, 5, 3, 7]\n",
      "The sum of the pair is: 8\n",
      "2 6\n",
      "1 7\n",
      "5 3\n"
     ]
    }
   ],
   "source": [
    "def find(array,len,Sum):\n",
    "    print(\"The sum of the pair is:\",Sum)\n",
    "    for i in range(len):\n",
    "        for s in range(i,len):\n",
    "            if (array[i] +array[s]) == Sum:\n",
    "                print(array[i], array[s])\n",
    "array= [8,2,1,6,5,3,7]\n",
    "Sum=8\n",
    "print(\"The List of array is =\", array)\n",
    "find(array, len(array), Sum)"
   ]
  },
  {
   "cell_type": "code",
   "execution_count": null,
   "id": "37c598d9",
   "metadata": {},
   "outputs": [],
   "source": []
  }
 ],
 "metadata": {
  "kernelspec": {
   "display_name": "Python 3 (ipykernel)",
   "language": "python",
   "name": "python3"
  },
  "language_info": {
   "codemirror_mode": {
    "name": "ipython",
    "version": 3
   },
   "file_extension": ".py",
   "mimetype": "text/x-python",
   "name": "python",
   "nbconvert_exporter": "python",
   "pygments_lexer": "ipython3",
   "version": "3.10.9"
  }
 },
 "nbformat": 4,
 "nbformat_minor": 5
}
